{
 "cells": [
  {
   "cell_type": "code",
   "execution_count": null,
   "id": "following-stability",
   "metadata": {},
   "outputs": [],
   "source": [
    "import numpy as np\n",
    "import pandas as pd\n",
    "import matplotlib.pyplot as plt\n",
    "from netprop.data import Data\n",
    "from netprop.dorm_model import DormModel\n",
    "from netprop.model import Model"
   ]
  },
  {
   "cell_type": "markdown",
   "id": "prepared-costs",
   "metadata": {},
   "source": [
    "## Simulate Data"
   ]
  },
  {
   "cell_type": "code",
   "execution_count": null,
   "id": "narrative-start",
   "metadata": {},
   "outputs": [],
   "source": [
    "# simulate data set\n",
    "np.random.seed(123)\n",
    "p = [0.1, 0.6, 0.2, 0.1]\n",
    "n = 1000\n",
    "y = np.random.multinomial(n, p, size = 30)"
   ]
  },
  {
   "cell_type": "code",
   "execution_count": null,
   "id": "equipped-garden",
   "metadata": {},
   "outputs": [],
   "source": [
    "df = pd.DataFrame({\n",
    "    \"obs\": np.hstack([np.log((y[:10, 1])/(y[:10, 0])),\n",
    "                      np.log((y[10:20, 1] + y[10:20, 2] + y[10:20, 3])/y[10:20, 0]),\n",
    "                      np.log((y[20:30, 1] + y[20:30, 3])/(y[20:30, 0]))]),\n",
    "    \"obs_se\": np.ones(y.shape[0])*1e-4,\n",
    "    \"ref_dorm\": \"A\",\n",
    "    \"alt_dorm\": [\"B\"]*10 + [\"B_C_D\"]*10 + [\"B_D\"]*10\n",
    "})"
   ]
  },
  {
   "cell_type": "markdown",
   "id": "centered-combination",
   "metadata": {},
   "source": [
    "# Config Model"
   ]
  },
  {
   "cell_type": "code",
   "execution_count": null,
   "id": "adopted-buddy",
   "metadata": {},
   "outputs": [],
   "source": [
    "data = Data.load(df,\n",
    "                 obs=\"obs\",\n",
    "                 obs_se=\"obs_se\",\n",
    "                 ref_dorm=\"ref_dorm\",\n",
    "                 alt_dorm=\"alt_dorm\",\n",
    "                 dorm_separator=\"_\")"
   ]
  },
  {
   "cell_type": "code",
   "execution_count": null,
   "id": "future-turner",
   "metadata": {},
   "outputs": [],
   "source": [
    "dorm_models = [\n",
    "    DormModel(name=\"A\", covs=[\"intercept\"]),\n",
    "    DormModel(name=\"B\", covs=[\"intercept\"]),\n",
    "    DormModel(name=\"C\", covs=[\"intercept\"]),\n",
    "    DormModel(name=\"D\", covs=[\"intercept\"])\n",
    "]"
   ]
  },
  {
   "cell_type": "code",
   "execution_count": null,
   "id": "descending-crown",
   "metadata": {},
   "outputs": [],
   "source": [
    "model = Model(data, dorm_models, gold_dorm=\"B\")"
   ]
  },
  {
   "cell_type": "markdown",
   "id": "scheduled-victorian",
   "metadata": {},
   "source": [
    "## Fit Model"
   ]
  },
  {
   "cell_type": "code",
   "execution_count": null,
   "id": "outer-conducting",
   "metadata": {},
   "outputs": [],
   "source": [
    "model.fit_model()"
   ]
  },
  {
   "cell_type": "markdown",
   "id": "binding-belly",
   "metadata": {},
   "source": [
    "## Predict Model and Create Draws"
   ]
  },
  {
   "cell_type": "code",
   "execution_count": null,
   "id": "sound-cathedral",
   "metadata": {},
   "outputs": [],
   "source": [
    "model.predict(pd.DataFrame({\"intercept\": 1}, index=[0]))"
   ]
  },
  {
   "cell_type": "code",
   "execution_count": null,
   "id": "equivalent-soundtrack",
   "metadata": {},
   "outputs": [],
   "source": [
    "beta_samples = np.random.multivariate_normal(mean=model.beta, cov=model.beta_vcov, size=100)"
   ]
  },
  {
   "cell_type": "code",
   "execution_count": null,
   "id": "ambient-soviet",
   "metadata": {},
   "outputs": [],
   "source": [
    "draws = np.vstack([\n",
    "    model.predict(pd.DataFrame({\"intercept\": 1}, index=[0]), beta=beta)\n",
    "    for beta in beta_samples\n",
    "])"
   ]
  },
  {
   "cell_type": "code",
   "execution_count": null,
   "id": "cutting-airline",
   "metadata": {},
   "outputs": [],
   "source": [
    "fig, ax = plt.subplots();\n",
    "ax.boxplot(draws);\n",
    "ax.set_xticklabels([\"A\", \"B\", \"C\", \"D\"]);"
   ]
  },
  {
   "cell_type": "code",
   "execution_count": null,
   "id": "honest-triumph",
   "metadata": {},
   "outputs": [],
   "source": []
  }
 ],
 "metadata": {
  "kernelspec": {
   "display_name": "Python 3",
   "language": "python",
   "name": "python3"
  },
  "language_info": {
   "codemirror_mode": {
    "name": "ipython",
    "version": 3
   },
   "file_extension": ".py",
   "mimetype": "text/x-python",
   "name": "python",
   "nbconvert_exporter": "python",
   "pygments_lexer": "ipython3",
   "version": "3.8.2"
  }
 },
 "nbformat": 4,
 "nbformat_minor": 5
}
